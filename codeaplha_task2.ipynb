{
 "cells": [
  {
   "cell_type": "code",
   "execution_count": 1,
   "id": "660983fa-b750-4531-ae61-de177b92e559",
   "metadata": {},
   "outputs": [],
   "source": [
    "from googletrans import Translator"
   ]
  },
  {
   "cell_type": "code",
   "execution_count": 2,
   "id": "824908f1-582e-4a92-9a20-c53957816a30",
   "metadata": {},
   "outputs": [],
   "source": [
    "translator = Translator()"
   ]
  },
  {
   "cell_type": "code",
   "execution_count": 3,
   "id": "5b5953fd-92f4-428e-97f5-3b31a8106928",
   "metadata": {},
   "outputs": [],
   "source": [
    "def translate_text(text, src_lang='auto', dest_lang='en'):\n",
    "    \n",
    "   # Translate text from source language to target language.\n",
    "    \n",
    "   # Parameters:\n",
    "        #text (str): The text to translate.\n",
    "       # src_lang (str): Source language code (e.g., 'en' for English, 'auto' for auto-detection).\n",
    "        #dest_lang (str): Target language code (e.g., 'es' for Spanish, 'fr' for French).\n",
    "    \n",
    "    #Returns:\n",
    "     #   str: Translated text.\n",
    "   \n",
    "    try:\n",
    "        # Translate the text\n",
    "        translated = translator.translate(text, src=src_lang, dest=dest_lang)\n",
    "        return translated.text\n",
    "    except Exception as e:\n",
    "        return f\"An error occurred: {e}\""
   ]
  },
  {
   "cell_type": "code",
   "execution_count": 4,
   "id": "d415baab-c43c-4bf8-bc4f-6fe805bb2226",
   "metadata": {},
   "outputs": [
    {
     "name": "stdout",
     "output_type": "stream",
     "text": [
      "Translated Text: ¿Hola, cómo estás?\n",
      "Translated Text: Bonjour comment allez-vous?\n",
      "Translated Text: Hello World!\n"
     ]
    }
   ],
   "source": [
    "# Example 1: Translate English to Spanish\n",
    "text = \"Hello, how are you?\"\n",
    "translated_text = translate_text(text, src_lang='en', dest_lang='es')\n",
    "print(f\"Translated Text: {translated_text}\")\n",
    "\n",
    "# Example 2: Auto-detect language and translate to French\n",
    "text = \"Hola, ¿cómo estás?\"\n",
    "translated_text = translate_text(text, dest_lang='fr')\n",
    "print(f\"Translated Text: {translated_text}\")\n",
    "\n",
    "# Example 3: Translate Chinese to English\n",
    "text = \"你好，世界！\"\n",
    "translated_text = translate_text(text, src_lang='zh-cn', dest_lang='en')\n",
    "print(f\"Translated Text: {translated_text}\")"
   ]
  },
  {
   "cell_type": "code",
   "execution_count": null,
   "id": "7e38911d-0b2c-4168-aa84-76a981e5550f",
   "metadata": {},
   "outputs": [],
   "source": []
  }
 ],
 "metadata": {
  "kernelspec": {
   "display_name": "Python 3 (ipykernel)",
   "language": "python",
   "name": "python3"
  },
  "language_info": {
   "codemirror_mode": {
    "name": "ipython",
    "version": 3
   },
   "file_extension": ".py",
   "mimetype": "text/x-python",
   "name": "python",
   "nbconvert_exporter": "python",
   "pygments_lexer": "ipython3",
   "version": "3.12.7"
  }
 },
 "nbformat": 4,
 "nbformat_minor": 5
}
